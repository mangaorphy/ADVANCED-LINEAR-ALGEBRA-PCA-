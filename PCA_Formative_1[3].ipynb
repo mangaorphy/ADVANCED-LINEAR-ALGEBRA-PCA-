{
 "cells": [
  {
   "cell_type": "markdown",
   "metadata": {
    "id": "JqkivgEHr_KW"
   },
   "source": [
    "# Formative Assignment: Advanced Linear Algebra (PCA)\n",
    "\n",
    "This notebook will guide you through the implementation of Principal Component Analysis (PCA). Fill in the missing code and provide the required answers in the appropriate sections. You will work with a dataset that is Africanized .\n",
    "\n",
    "Make sure to display outputs for each code cell when submitting.\n"
   ]
  },
  {
   "cell_type": "markdown",
   "metadata": {
    "id": "xycIp758r_Kb"
   },
   "source": [
    "### Step 1: Load and Standardize the Data\n",
    "\n",
    "Before applying PCA, we must standardize the dataset. Standardization ensures that all features have a mean of 0 and a standard deviation of 1, which is essential for PCA.\n",
    "Fill in the code to standardize the dataset.\n",
    "\n",
    "STRICTLY - Write code that implements standardization based on the image below\n",
    "\n",
    "<img src='data:image/jpeg;base64,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'/>\n"
   ]
  },
  {
   "cell_type": "markdown",
   "metadata": {},
   "source": [
    "## mathias Kabango\n"
   ]
  },
  {
   "cell_type": "code",
   "execution_count": 1,
   "metadata": {},
   "outputs": [],
   "source": [
    "#  import numpy and\n",
    "import numpy as np\n",
    "import pandas as pd"
   ]
  },
  {
   "cell_type": "code",
   "execution_count": 2,
   "metadata": {
    "id": "BKihXBaBr_Kc"
   },
   "outputs": [
    {
     "data": {
      "text/plain": [
       "['All theft not mentioned elsewhere',\n",
       " 'Theft out of or from motor vehicle',\n",
       " 'Drug-related crime',\n",
       " 'Robbery with aggravating circumstances',\n",
       " 'Common assault',\n",
       " 'Commercial crime',\n",
       " 'Burglary at residential premises',\n",
       " 'Assault with the intent to inflict grievous bodily harm',\n",
       " 'Theft of motor vehicle and motorcycle',\n",
       " 'Shoplifting',\n",
       " 'Malicious damage to property',\n",
       " 'Common robbery',\n",
       " 'Burglary at non-residential premises',\n",
       " 'Sexual Offences',\n",
       " 'Driving under the influence of alcohol or drugs',\n",
       " 'Stock-theft',\n",
       " 'Attempted murder',\n",
       " 'Carjacking',\n",
       " 'Robbery at non-residential premises',\n",
       " 'Robbery at residential premises',\n",
       " 'Murder',\n",
       " 'Illegal possession of firearms and ammunition',\n",
       " 'Arson',\n",
       " 'Truck hijacking',\n",
       " 'Robbery of cash in transit',\n",
       " 'Bank robbery',\n",
       " 'Sexual offences as result of police action']"
      ]
     },
     "execution_count": 2,
     "metadata": {},
     "output_type": "execute_result"
    }
   ],
   "source": [
    "# Step 1: Load and Standardize the data (use of numpy only allowed)\n",
    "data = pd.read_csv(\"SouthAfricaCrimeStats.csv\")\n",
    "\n",
    "standardized_data = None  # Do not use sklearn (Data - Data Mean)/ Data's Standard Deviation\n",
    "# standardized_data[:5] # Display the first few rows of standardized data\n",
    "province_list = data['Province'].unique().tolist()\n",
    "station_list = data['Station'].unique().tolist()\n",
    "category_list = data['Category'].unique().tolist()\n",
    "\n",
    "category_list\n"
   ]
  },
  {
   "cell_type": "code",
   "execution_count": 3,
   "metadata": {},
   "outputs": [
    {
     "data": {
      "text/plain": [
       "{'All theft not mentioned elsewhere': 0,\n",
       " 'Theft out of or from motor vehicle': 1,\n",
       " 'Drug-related crime': 2,\n",
       " 'Robbery with aggravating circumstances': 3,\n",
       " 'Common assault': 4,\n",
       " 'Commercial crime': 5,\n",
       " 'Burglary at residential premises': 6,\n",
       " 'Assault with the intent to inflict grievous bodily harm': 7,\n",
       " 'Theft of motor vehicle and motorcycle': 8,\n",
       " 'Shoplifting': 9,\n",
       " 'Malicious damage to property': 10,\n",
       " 'Common robbery': 11,\n",
       " 'Burglary at non-residential premises': 12,\n",
       " 'Sexual Offences': 13,\n",
       " 'Driving under the influence of alcohol or drugs': 14,\n",
       " 'Stock-theft': 15,\n",
       " 'Attempted murder': 16,\n",
       " 'Carjacking': 17,\n",
       " 'Robbery at non-residential premises': 18,\n",
       " 'Robbery at residential premises': 19,\n",
       " 'Murder': 20,\n",
       " 'Illegal possession of firearms and ammunition': 21,\n",
       " 'Arson': 22,\n",
       " 'Truck hijacking': 23,\n",
       " 'Robbery of cash in transit': 24,\n",
       " 'Bank robbery': 25,\n",
       " 'Sexual offences as result of police action': 26}"
      ]
     },
     "execution_count": 3,
     "metadata": {},
     "output_type": "execute_result"
    }
   ],
   "source": [
    "# reusable function to help with encoding categorical columns e.g Category, Station and Province\n",
    "def encoder(array):\n",
    "    encoded = {}\n",
    "    for indx,val in enumerate(array):\n",
    "        encoded[val] = indx\n",
    "    return encoded\n",
    "lets_see = encoder(category_list)\n",
    "lets_see"
   ]
  },
  {
   "cell_type": "code",
   "execution_count": 4,
   "metadata": {},
   "outputs": [
    {
     "data": {
      "text/html": [
       "<div>\n",
       "<style scoped>\n",
       "    .dataframe tbody tr th:only-of-type {\n",
       "        vertical-align: middle;\n",
       "    }\n",
       "\n",
       "    .dataframe tbody tr th {\n",
       "        vertical-align: top;\n",
       "    }\n",
       "\n",
       "    .dataframe thead th {\n",
       "        text-align: right;\n",
       "    }\n",
       "</style>\n",
       "<table border=\"1\" class=\"dataframe\">\n",
       "  <thead>\n",
       "    <tr style=\"text-align: right;\">\n",
       "      <th></th>\n",
       "      <th>Province</th>\n",
       "      <th>Station</th>\n",
       "      <th>Category</th>\n",
       "      <th>2005-2006</th>\n",
       "      <th>2006-2007</th>\n",
       "      <th>2007-2008</th>\n",
       "      <th>2008-2009</th>\n",
       "      <th>2009-2010</th>\n",
       "      <th>2010-2011</th>\n",
       "      <th>2011-2012</th>\n",
       "      <th>2012-2013</th>\n",
       "      <th>2013-2014</th>\n",
       "      <th>2014-2015</th>\n",
       "      <th>2015-2016</th>\n",
       "    </tr>\n",
       "  </thead>\n",
       "  <tbody>\n",
       "    <tr>\n",
       "      <th>0</th>\n",
       "      <td>0</td>\n",
       "      <td>0</td>\n",
       "      <td>0</td>\n",
       "      <td>6692</td>\n",
       "      <td>6341</td>\n",
       "      <td>5966</td>\n",
       "      <td>5187</td>\n",
       "      <td>4985</td>\n",
       "      <td>5127</td>\n",
       "      <td>5285</td>\n",
       "      <td>5937</td>\n",
       "      <td>5600</td>\n",
       "      <td>5335</td>\n",
       "      <td>5176</td>\n",
       "    </tr>\n",
       "    <tr>\n",
       "      <th>1</th>\n",
       "      <td>1</td>\n",
       "      <td>1</td>\n",
       "      <td>0</td>\n",
       "      <td>6093</td>\n",
       "      <td>4602</td>\n",
       "      <td>3761</td>\n",
       "      <td>3610</td>\n",
       "      <td>3267</td>\n",
       "      <td>3037</td>\n",
       "      <td>2886</td>\n",
       "      <td>2638</td>\n",
       "      <td>2809</td>\n",
       "      <td>3050</td>\n",
       "      <td>2434</td>\n",
       "    </tr>\n",
       "    <tr>\n",
       "      <th>2</th>\n",
       "      <td>0</td>\n",
       "      <td>2</td>\n",
       "      <td>0</td>\n",
       "      <td>5341</td>\n",
       "      <td>6093</td>\n",
       "      <td>6316</td>\n",
       "      <td>6803</td>\n",
       "      <td>6035</td>\n",
       "      <td>5761</td>\n",
       "      <td>6108</td>\n",
       "      <td>5514</td>\n",
       "      <td>4975</td>\n",
       "      <td>4043</td>\n",
       "      <td>3635</td>\n",
       "    </tr>\n",
       "    <tr>\n",
       "      <th>3</th>\n",
       "      <td>2</td>\n",
       "      <td>3</td>\n",
       "      <td>0</td>\n",
       "      <td>5108</td>\n",
       "      <td>4282</td>\n",
       "      <td>3834</td>\n",
       "      <td>3316</td>\n",
       "      <td>3101</td>\n",
       "      <td>3013</td>\n",
       "      <td>2679</td>\n",
       "      <td>3116</td>\n",
       "      <td>2927</td>\n",
       "      <td>2297</td>\n",
       "      <td>2103</td>\n",
       "    </tr>\n",
       "    <tr>\n",
       "      <th>4</th>\n",
       "      <td>1</td>\n",
       "      <td>4</td>\n",
       "      <td>0</td>\n",
       "      <td>5099</td>\n",
       "      <td>4536</td>\n",
       "      <td>3309</td>\n",
       "      <td>2694</td>\n",
       "      <td>2616</td>\n",
       "      <td>2606</td>\n",
       "      <td>2635</td>\n",
       "      <td>3226</td>\n",
       "      <td>3246</td>\n",
       "      <td>2892</td>\n",
       "      <td>3030</td>\n",
       "    </tr>\n",
       "  </tbody>\n",
       "</table>\n",
       "</div>"
      ],
      "text/plain": [
       "   Province  Station  Category  2005-2006  2006-2007  2007-2008  2008-2009  \\\n",
       "0         0        0         0       6692       6341       5966       5187   \n",
       "1         1        1         0       6093       4602       3761       3610   \n",
       "2         0        2         0       5341       6093       6316       6803   \n",
       "3         2        3         0       5108       4282       3834       3316   \n",
       "4         1        4         0       5099       4536       3309       2694   \n",
       "\n",
       "   2009-2010  2010-2011  2011-2012  2012-2013  2013-2014  2014-2015  2015-2016  \n",
       "0       4985       5127       5285       5937       5600       5335       5176  \n",
       "1       3267       3037       2886       2638       2809       3050       2434  \n",
       "2       6035       5761       6108       5514       4975       4043       3635  \n",
       "3       3101       3013       2679       3116       2927       2297       2103  \n",
       "4       2616       2606       2635       3226       3246       2892       3030  "
      ]
     },
     "execution_count": 4,
     "metadata": {},
     "output_type": "execute_result"
    }
   ],
   "source": [
    "# use map function to map the encoded columns back to the original dataset\n",
    "data['Province'] = data['Province'].map(encoder(province_list))\n",
    "data['Station'] = data['Station'].map(encoder(station_list))\n",
    "data['Category'] = data['Category'].map(encoder(category_list))\n",
    "data.head()"
   ]
  },
  {
   "cell_type": "code",
   "execution_count": 5,
   "metadata": {},
   "outputs": [
    {
     "name": "stderr",
     "output_type": "stream",
     "text": [
      "/Users/mizeroreine/Desktop/docs/ALU/ADVANCED-LINEAR-ALGEBRA-PCA-/.venv/lib/python3.13/site-packages/numpy/_core/fromnumeric.py:4062: FutureWarning: The behavior of DataFrame.std with axis=None is deprecated, in a future version this will reduce over both axes and return a scalar. To retain the old behavior, pass axis=0 (or do not pass axis)\n",
      "  return std(axis=axis, dtype=dtype, out=out, ddof=ddof, **kwargs)\n"
     ]
    },
    {
     "data": {
      "text/html": [
       "<div>\n",
       "<style scoped>\n",
       "    .dataframe tbody tr th:only-of-type {\n",
       "        vertical-align: middle;\n",
       "    }\n",
       "\n",
       "    .dataframe tbody tr th {\n",
       "        vertical-align: top;\n",
       "    }\n",
       "\n",
       "    .dataframe thead th {\n",
       "        text-align: right;\n",
       "    }\n",
       "</style>\n",
       "<table border=\"1\" class=\"dataframe\">\n",
       "  <thead>\n",
       "    <tr style=\"text-align: right;\">\n",
       "      <th></th>\n",
       "      <th>Province</th>\n",
       "      <th>Station</th>\n",
       "      <th>Category</th>\n",
       "      <th>2005-2006</th>\n",
       "      <th>2006-2007</th>\n",
       "      <th>2007-2008</th>\n",
       "      <th>2008-2009</th>\n",
       "      <th>2009-2010</th>\n",
       "      <th>2010-2011</th>\n",
       "      <th>2011-2012</th>\n",
       "      <th>2012-2013</th>\n",
       "      <th>2013-2014</th>\n",
       "      <th>2014-2015</th>\n",
       "      <th>2015-2016</th>\n",
       "    </tr>\n",
       "  </thead>\n",
       "  <tbody>\n",
       "    <tr>\n",
       "      <th>0</th>\n",
       "      <td>-1.506672</td>\n",
       "      <td>-1.730536</td>\n",
       "      <td>-1.669046</td>\n",
       "      <td>32.223100</td>\n",
       "      <td>31.669738</td>\n",
       "      <td>31.585592</td>\n",
       "      <td>27.345308</td>\n",
       "      <td>26.496895</td>\n",
       "      <td>27.818936</td>\n",
       "      <td>28.455232</td>\n",
       "      <td>31.747836</td>\n",
       "      <td>29.465006</td>\n",
       "      <td>28.448893</td>\n",
       "      <td>28.463612</td>\n",
       "    </tr>\n",
       "    <tr>\n",
       "      <th>1</th>\n",
       "      <td>-1.113492</td>\n",
       "      <td>-1.727505</td>\n",
       "      <td>-1.669046</td>\n",
       "      <td>29.308093</td>\n",
       "      <td>22.888436</td>\n",
       "      <td>19.778836</td>\n",
       "      <td>18.919849</td>\n",
       "      <td>17.236020</td>\n",
       "      <td>16.326765</td>\n",
       "      <td>15.369647</td>\n",
       "      <td>13.897015</td>\n",
       "      <td>14.590158</td>\n",
       "      <td>16.098613</td>\n",
       "      <td>13.176012</td>\n",
       "    </tr>\n",
       "    <tr>\n",
       "      <th>2</th>\n",
       "      <td>-1.506672</td>\n",
       "      <td>-1.724475</td>\n",
       "      <td>-1.669046</td>\n",
       "      <td>25.648519</td>\n",
       "      <td>30.417430</td>\n",
       "      <td>33.459680</td>\n",
       "      <td>35.979132</td>\n",
       "      <td>32.156917</td>\n",
       "      <td>31.305078</td>\n",
       "      <td>32.944368</td>\n",
       "      <td>29.458992</td>\n",
       "      <td>26.134021</td>\n",
       "      <td>21.465715</td>\n",
       "      <td>19.872003</td>\n",
       "    </tr>\n",
       "    <tr>\n",
       "      <th>3</th>\n",
       "      <td>-0.720313</td>\n",
       "      <td>-1.721444</td>\n",
       "      <td>-1.669046</td>\n",
       "      <td>24.514634</td>\n",
       "      <td>21.272556</td>\n",
       "      <td>20.169717</td>\n",
       "      <td>17.349092</td>\n",
       "      <td>16.341198</td>\n",
       "      <td>16.194797</td>\n",
       "      <td>14.240545</td>\n",
       "      <td>16.483463</td>\n",
       "      <td>15.219048</td>\n",
       "      <td>12.028696</td>\n",
       "      <td>11.330573</td>\n",
       "    </tr>\n",
       "    <tr>\n",
       "      <th>4</th>\n",
       "      <td>-1.113492</td>\n",
       "      <td>-1.718413</td>\n",
       "      <td>-1.669046</td>\n",
       "      <td>24.470836</td>\n",
       "      <td>22.555161</td>\n",
       "      <td>17.358585</td>\n",
       "      <td>14.025924</td>\n",
       "      <td>13.726806</td>\n",
       "      <td>13.956848</td>\n",
       "      <td>14.000542</td>\n",
       "      <td>17.078671</td>\n",
       "      <td>16.919183</td>\n",
       "      <td>15.244633</td>\n",
       "      <td>16.498919</td>\n",
       "    </tr>\n",
       "  </tbody>\n",
       "</table>\n",
       "</div>"
      ],
      "text/plain": [
       "   Province   Station  Category  2005-2006  2006-2007  2007-2008  2008-2009  \\\n",
       "0 -1.506672 -1.730536 -1.669046  32.223100  31.669738  31.585592  27.345308   \n",
       "1 -1.113492 -1.727505 -1.669046  29.308093  22.888436  19.778836  18.919849   \n",
       "2 -1.506672 -1.724475 -1.669046  25.648519  30.417430  33.459680  35.979132   \n",
       "3 -0.720313 -1.721444 -1.669046  24.514634  21.272556  20.169717  17.349092   \n",
       "4 -1.113492 -1.718413 -1.669046  24.470836  22.555161  17.358585  14.025924   \n",
       "\n",
       "   2009-2010  2010-2011  2011-2012  2012-2013  2013-2014  2014-2015  2015-2016  \n",
       "0  26.496895  27.818936  28.455232  31.747836  29.465006  28.448893  28.463612  \n",
       "1  17.236020  16.326765  15.369647  13.897015  14.590158  16.098613  13.176012  \n",
       "2  32.156917  31.305078  32.944368  29.458992  26.134021  21.465715  19.872003  \n",
       "3  16.341198  16.194797  14.240545  16.483463  15.219048  12.028696  11.330573  \n",
       "4  13.726806  13.956848  14.000542  17.078671  16.919183  15.244633  16.498919  "
      ]
     },
     "execution_count": 5,
     "metadata": {},
     "output_type": "execute_result"
    }
   ],
   "source": [
    "standardized_data = (data - np.mean(data, axis=0)) / np.std(data) # Do not use sklearn (Data - Data Mean)/ Data's Standard Deviation\n",
    "standardized_data[:5] # Display the first few rows of standardized data"
   ]
  },
  {
   "cell_type": "markdown",
   "metadata": {
    "id": "Fybn40Syr_Kd"
   },
   "source": [
    "### Step 3: Calculate the Covariance Matrix\n",
    "\n",
    "The covariance matrix helps us understand how the features are related to each other. It is a key component in PCA.\n"
   ]
  },
  {
   "cell_type": "code",
   "execution_count": 6,
   "metadata": {
    "id": "RbklA9tqr_Ke"
   },
   "outputs": [
    {
     "data": {
      "text/plain": [
       "array([[ 1.00003240e+00,  3.43387590e-01, -5.84827786e-17,\n",
       "        -1.46397114e-01, -1.54463023e-01, -1.63266451e-01,\n",
       "        -1.68429039e-01, -1.74440022e-01, -1.76095311e-01,\n",
       "        -1.70941930e-01, -1.76859895e-01, -1.85766281e-01,\n",
       "        -1.90634361e-01, -1.92421784e-01],\n",
       "       [ 3.43387590e-01,  1.00003240e+00,  7.36790912e-18,\n",
       "        -3.61250013e-01, -3.66126971e-01, -3.70574077e-01,\n",
       "        -3.75032187e-01, -3.79884333e-01, -3.73825659e-01,\n",
       "        -3.64383854e-01, -3.58871618e-01, -3.56035114e-01,\n",
       "        -3.52344061e-01, -3.54479468e-01],\n",
       "       [-5.84827786e-17,  7.36790912e-18,  1.00003240e+00,\n",
       "        -3.19201473e-01, -3.20287940e-01, -3.23445046e-01,\n",
       "        -3.25523824e-01, -3.30163197e-01, -3.33654171e-01,\n",
       "        -3.38084953e-01, -3.42072217e-01, -3.51082429e-01,\n",
       "        -3.55371768e-01, -3.57497342e-01],\n",
       "       [-1.46397114e-01, -3.61250013e-01, -3.19201473e-01,\n",
       "         1.00003240e+00,  9.82007413e-01,  9.60058944e-01,\n",
       "         9.39060580e-01,  9.24685568e-01,  9.08700680e-01,\n",
       "         8.89191578e-01,  8.63925508e-01,  8.43450614e-01,\n",
       "         8.29847886e-01,  8.26849716e-01],\n",
       "       [-1.54463023e-01, -3.66126971e-01, -3.20287940e-01,\n",
       "         9.82007413e-01,  1.00003240e+00,  9.80052185e-01,\n",
       "         9.57928886e-01,  9.41328620e-01,  9.22994529e-01,\n",
       "         9.04018093e-01,  8.80392301e-01,  8.58691040e-01,\n",
       "         8.44104222e-01,  8.42498585e-01],\n",
       "       [-1.63266451e-01, -3.70574077e-01, -3.23445046e-01,\n",
       "         9.60058944e-01,  9.80052185e-01,  1.00003240e+00,\n",
       "         9.81251797e-01,  9.64271901e-01,  9.44141096e-01,\n",
       "         9.23779563e-01,  8.99418316e-01,  8.73858835e-01,\n",
       "         8.57588714e-01,  8.54549163e-01],\n",
       "       [-1.68429039e-01, -3.75032187e-01, -3.25523824e-01,\n",
       "         9.39060580e-01,  9.57928886e-01,  9.81251797e-01,\n",
       "         1.00003240e+00,  9.80710223e-01,  9.57913180e-01,\n",
       "         9.33764566e-01,  9.09477175e-01,  8.81299361e-01,\n",
       "         8.62319897e-01,  8.57686637e-01],\n",
       "       [-1.74440022e-01, -3.79884333e-01, -3.30163197e-01,\n",
       "         9.24685568e-01,  9.41328620e-01,  9.64271901e-01,\n",
       "         9.80710223e-01,  1.00003240e+00,  9.79693566e-01,\n",
       "         9.53747277e-01,  9.31853963e-01,  9.02275966e-01,\n",
       "         8.83293803e-01,  8.80115055e-01],\n",
       "       [-1.76095311e-01, -3.73825659e-01, -3.33654171e-01,\n",
       "         9.08700680e-01,  9.22994529e-01,  9.44141096e-01,\n",
       "         9.57913180e-01,  9.79693566e-01,  1.00003240e+00,\n",
       "         9.73907218e-01,  9.50350301e-01,  9.21222710e-01,\n",
       "         9.02068015e-01,  8.99154121e-01],\n",
       "       [-1.70941930e-01, -3.64383854e-01, -3.38084953e-01,\n",
       "         8.89191578e-01,  9.04018093e-01,  9.23779563e-01,\n",
       "         9.33764566e-01,  9.53747277e-01,  9.73907218e-01,\n",
       "         1.00003240e+00,  9.75713975e-01,  9.46615731e-01,\n",
       "         9.28680950e-01,  9.23061272e-01],\n",
       "       [-1.76859895e-01, -3.58871618e-01, -3.42072217e-01,\n",
       "         8.63925508e-01,  8.80392301e-01,  8.99418316e-01,\n",
       "         9.09477175e-01,  9.31853963e-01,  9.50350301e-01,\n",
       "         9.75713975e-01,  1.00003240e+00,  9.70702708e-01,\n",
       "         9.50860720e-01,  9.43526518e-01],\n",
       "       [-1.85766281e-01, -3.56035114e-01, -3.51082429e-01,\n",
       "         8.43450614e-01,  8.58691040e-01,  8.73858835e-01,\n",
       "         8.81299361e-01,  9.02275966e-01,  9.21222710e-01,\n",
       "         9.46615731e-01,  9.70702708e-01,  1.00003240e+00,\n",
       "         9.80392159e-01,  9.64494121e-01],\n",
       "       [-1.90634361e-01, -3.52344061e-01, -3.55371768e-01,\n",
       "         8.29847886e-01,  8.44104222e-01,  8.57588714e-01,\n",
       "         8.62319897e-01,  8.83293803e-01,  9.02068015e-01,\n",
       "         9.28680950e-01,  9.50860720e-01,  9.80392159e-01,\n",
       "         1.00003240e+00,  9.81681722e-01],\n",
       "       [-1.92421784e-01, -3.54479468e-01, -3.57497342e-01,\n",
       "         8.26849716e-01,  8.42498585e-01,  8.54549163e-01,\n",
       "         8.57686637e-01,  8.80115055e-01,  8.99154121e-01,\n",
       "         9.23061272e-01,  9.43526518e-01,  9.64494121e-01,\n",
       "         9.81681722e-01,  1.00003240e+00]])"
      ]
     },
     "execution_count": 6,
     "metadata": {},
     "output_type": "execute_result"
    }
   ],
   "source": [
    "# Step 3: Calculate the Covariance Matrix\n",
    "cov_matrix = np.cov(standardized_data,rowvar=False)  # Calculate covariance matrix\n",
    "cov_matrix"
   ]
  },
  {
   "cell_type": "markdown",
   "metadata": {},
   "source": [
    "## Orpheus Manga\n"
   ]
  },
  {
   "cell_type": "markdown",
   "metadata": {
    "id": "dWzqXsR0r_Ke"
   },
   "source": [
    "### Step 4: Perform Eigendecomposition\n",
    "\n",
    "Eigendecomposition of the covariance matrix will give us the eigenvalues and eigenvectors, which are essential for PCA.\n",
    "Fill in the code to compute the eigenvalues and eigenvectors of the covariance matrix.\n"
   ]
  },
  {
   "cell_type": "code",
   "execution_count": 13,
   "metadata": {
    "id": "8Tm0rzdAr_Ke"
   },
   "outputs": [
    {
     "data": {
      "text/plain": [
       "(array([1.05129128e+01, 1.23484606e+00, 8.43299107e-01, 6.12513685e-01,\n",
       "        4.67669306e-01, 1.38669087e-01, 5.89034767e-02, 3.79345348e-02,\n",
       "        2.72342428e-02, 1.88928878e-02, 1.59854157e-02, 9.38954843e-03,\n",
       "        1.08507243e-02, 1.13528278e-02]),\n",
       " array([[-6.37852380e-02, -6.94933564e-01, -4.69105406e-01,\n",
       "         -5.15359713e-01, -1.64379860e-01,  9.86098940e-04,\n",
       "          1.75276679e-02, -1.41570971e-03, -6.76254066e-04,\n",
       "          7.43461908e-04,  3.00283432e-03, -5.24991875e-04,\n",
       "          1.38062997e-03,  3.54665877e-04],\n",
       "        [-1.27353929e-01, -6.06869644e-01,  2.22757467e-02,\n",
       "          7.73975607e-01,  1.25763409e-01,  2.15691468e-03,\n",
       "          7.76636990e-03, -6.14324740e-03, -4.04469303e-03,\n",
       "         -3.49095602e-03, -6.75695795e-04,  6.68601587e-04,\n",
       "         -2.66824246e-03,  2.25454834e-04],\n",
       "        [-1.15149509e-01,  3.77101838e-01, -8.56896101e-01,\n",
       "          3.16714644e-01, -9.58073798e-02,  2.45411241e-02,\n",
       "          1.06729648e-02, -6.72922002e-03, -1.85176341e-03,\n",
       "         -1.98971337e-03, -2.03016966e-03,  3.54655764e-04,\n",
       "         -3.54436852e-04,  1.85057408e-03],\n",
       "        [ 2.89788928e-01, -3.20466459e-02, -9.46553847e-02,\n",
       "         -3.58030974e-02,  3.63989640e-01,  4.47744907e-01,\n",
       "         -3.90374866e-01, -2.55850890e-01, -3.07228012e-01,\n",
       "         -2.35977235e-01, -3.31184567e-01,  1.97088472e-01,\n",
       "          1.73594942e-01,  1.58748600e-01],\n",
       "        [ 2.94053682e-01, -2.80606729e-02, -9.43208223e-02,\n",
       "         -2.54757881e-02,  3.46526838e-01,  3.48058256e-01,\n",
       "         -1.29949908e-01,  4.84916902e-02,  1.57438488e-01,\n",
       "          1.40033563e-01,  4.03839993e-01, -4.68906132e-01,\n",
       "         -3.70798466e-01, -2.79084747e-01],\n",
       "        [ 2.97763431e-01, -2.39039881e-02, -8.86122382e-02,\n",
       "         -1.28474002e-02,  3.05094352e-01,  7.19384278e-02,\n",
       "          2.25258975e-01,  3.03858722e-01,  3.58270591e-01,\n",
       "          2.96015892e-01,  2.02095136e-01,  5.48961846e-01,\n",
       "          3.14256900e-01,  6.69085058e-02],\n",
       "        [ 2.98539837e-01, -1.95190219e-02, -8.09259517e-02,\n",
       "         -7.84314819e-03,  2.58402501e-01, -1.87347094e-01,\n",
       "          4.34391216e-01,  2.85951629e-01,  2.57245681e-02,\n",
       "         -1.40255565e-01, -4.52732485e-01, -4.65695433e-01,\n",
       "          4.10509976e-02,  2.96125141e-01],\n",
       "        [ 3.00973150e-01, -1.65332091e-02, -6.72827188e-02,\n",
       "          5.76582600e-03,  1.54432919e-01, -3.48397009e-01,\n",
       "          3.06381028e-01, -1.40496388e-01, -3.02979457e-01,\n",
       "         -3.23621479e-01,  5.03675049e-02,  3.51033431e-01,\n",
       "         -3.60868070e-01, -4.39577641e-01],\n",
       "        [ 3.01460709e-01, -2.00395913e-02, -5.29338964e-02,\n",
       "          2.83661336e-02,  4.01191616e-02, -4.19637064e-01,\n",
       "         -4.43389957e-02, -4.67642568e-01, -2.42582000e-01,\n",
       "          2.50533612e-01,  3.87962690e-01, -2.18161349e-01,\n",
       "          3.61887752e-01,  2.36785989e-01],\n",
       "        [ 3.01122611e-01, -2.90112171e-02, -3.69116689e-02,\n",
       "          5.12119233e-02, -1.06011347e-01, -3.40979834e-01,\n",
       "         -4.18665544e-01, -1.31107821e-01,  3.61625127e-01,\n",
       "          3.74915715e-01, -4.46256624e-01,  9.39007674e-02,\n",
       "         -3.21846721e-01, -4.05027611e-02],\n",
       "        [ 2.98948722e-01, -2.80760669e-02, -1.23735038e-02,\n",
       "          7.37118226e-02, -2.38782899e-01, -2.04403132e-01,\n",
       "         -4.11926564e-01,  3.49298300e-01,  2.08711421e-01,\n",
       "         -5.59860628e-01,  1.81153949e-01, -8.79905012e-02,\n",
       "          3.07999649e-01, -1.46071575e-01],\n",
       "        [ 2.95244838e-01, -2.44813445e-02,  2.10728620e-02,\n",
       "          8.72164763e-02, -3.53219509e-01,  1.03041719e-01,\n",
       "         -8.19749346e-02,  4.35715404e-01, -4.80488763e-01,\n",
       "          1.79343460e-01,  1.58844064e-01,  1.23703808e-01,\n",
       "         -3.38311167e-01,  3.92694419e-01],\n",
       "        [ 2.91791747e-01, -2.23732579e-02,  4.00779926e-02,\n",
       "          9.34484208e-02, -4.02390266e-01,  2.80854595e-01,\n",
       "          2.07203674e-01, -3.87380803e-03, -1.85817558e-01,\n",
       "          2.91797995e-01, -2.50743204e-01, -1.31186650e-01,\n",
       "          3.60668303e-01, -5.38919856e-01],\n",
       "        [ 2.90513728e-01, -1.99812809e-02,  4.49548204e-02,\n",
       "          8.75626351e-02, -3.93907792e-01,  3.04101065e-01,\n",
       "          3.16778846e-01, -4.36480361e-01,  4.01759719e-01,\n",
       "         -2.80317322e-01,  9.10496977e-02,  5.62128557e-02,\n",
       "         -1.66576959e-01,  2.96349681e-01]]))"
      ]
     },
     "execution_count": 13,
     "metadata": {},
     "output_type": "execute_result"
    }
   ],
   "source": [
    "# Step 4: Perform Eigendecomposition\n",
    "eigenvalues, eigenvectors = np.linalg.eig(cov_matrix) # Perform eigendecomposition\n",
    "eigenvalues, eigenvectors"
   ]
  },
  {
   "cell_type": "markdown",
   "metadata": {
    "id": "bp6o_4sTr_Kf"
   },
   "source": [
    "### Step 5: Sort Principal Components\n",
    "\n",
    "Sort the eigenvectors based on their corresponding eigenvalues in descending order. The higher the eigenvalue, the more important the eigenvector.\n",
    "Complete the code to sort the eigenvectors and print the sorted components.\n",
    "\n",
    "<a url ='https://www.youtube.com/watch?v=vaF-1xUEXsA&t=17s'>How Is Explained Variance Used In PCA?'<a/>\n"
   ]
  },
  {
   "cell_type": "code",
   "execution_count": 14,
   "metadata": {
    "id": "jpfoRz-Xr_Kf"
   },
   "outputs": [
    {
     "data": {
      "text/plain": [
       "array([[-6.37852380e-02, -6.94933564e-01, -4.69105406e-01,\n",
       "        -5.15359713e-01, -1.64379860e-01,  9.86098940e-04,\n",
       "         1.75276679e-02, -1.41570971e-03, -6.76254066e-04,\n",
       "         7.43461908e-04,  3.00283432e-03,  3.54665877e-04,\n",
       "         1.38062997e-03, -5.24991875e-04],\n",
       "       [-1.27353929e-01, -6.06869644e-01,  2.22757467e-02,\n",
       "         7.73975607e-01,  1.25763409e-01,  2.15691468e-03,\n",
       "         7.76636990e-03, -6.14324740e-03, -4.04469303e-03,\n",
       "        -3.49095602e-03, -6.75695795e-04,  2.25454834e-04,\n",
       "        -2.66824246e-03,  6.68601587e-04],\n",
       "       [-1.15149509e-01,  3.77101838e-01, -8.56896101e-01,\n",
       "         3.16714644e-01, -9.58073798e-02,  2.45411241e-02,\n",
       "         1.06729648e-02, -6.72922002e-03, -1.85176341e-03,\n",
       "        -1.98971337e-03, -2.03016966e-03,  1.85057408e-03,\n",
       "        -3.54436852e-04,  3.54655764e-04],\n",
       "       [ 2.89788928e-01, -3.20466459e-02, -9.46553847e-02,\n",
       "        -3.58030974e-02,  3.63989640e-01,  4.47744907e-01,\n",
       "        -3.90374866e-01, -2.55850890e-01, -3.07228012e-01,\n",
       "        -2.35977235e-01, -3.31184567e-01,  1.58748600e-01,\n",
       "         1.73594942e-01,  1.97088472e-01],\n",
       "       [ 2.94053682e-01, -2.80606729e-02, -9.43208223e-02,\n",
       "        -2.54757881e-02,  3.46526838e-01,  3.48058256e-01,\n",
       "        -1.29949908e-01,  4.84916902e-02,  1.57438488e-01,\n",
       "         1.40033563e-01,  4.03839993e-01, -2.79084747e-01,\n",
       "        -3.70798466e-01, -4.68906132e-01],\n",
       "       [ 2.97763431e-01, -2.39039881e-02, -8.86122382e-02,\n",
       "        -1.28474002e-02,  3.05094352e-01,  7.19384278e-02,\n",
       "         2.25258975e-01,  3.03858722e-01,  3.58270591e-01,\n",
       "         2.96015892e-01,  2.02095136e-01,  6.69085058e-02,\n",
       "         3.14256900e-01,  5.48961846e-01],\n",
       "       [ 2.98539837e-01, -1.95190219e-02, -8.09259517e-02,\n",
       "        -7.84314819e-03,  2.58402501e-01, -1.87347094e-01,\n",
       "         4.34391216e-01,  2.85951629e-01,  2.57245681e-02,\n",
       "        -1.40255565e-01, -4.52732485e-01,  2.96125141e-01,\n",
       "         4.10509976e-02, -4.65695433e-01],\n",
       "       [ 3.00973150e-01, -1.65332091e-02, -6.72827188e-02,\n",
       "         5.76582600e-03,  1.54432919e-01, -3.48397009e-01,\n",
       "         3.06381028e-01, -1.40496388e-01, -3.02979457e-01,\n",
       "        -3.23621479e-01,  5.03675049e-02, -4.39577641e-01,\n",
       "        -3.60868070e-01,  3.51033431e-01],\n",
       "       [ 3.01460709e-01, -2.00395913e-02, -5.29338964e-02,\n",
       "         2.83661336e-02,  4.01191616e-02, -4.19637064e-01,\n",
       "        -4.43389957e-02, -4.67642568e-01, -2.42582000e-01,\n",
       "         2.50533612e-01,  3.87962690e-01,  2.36785989e-01,\n",
       "         3.61887752e-01, -2.18161349e-01],\n",
       "       [ 3.01122611e-01, -2.90112171e-02, -3.69116689e-02,\n",
       "         5.12119233e-02, -1.06011347e-01, -3.40979834e-01,\n",
       "        -4.18665544e-01, -1.31107821e-01,  3.61625127e-01,\n",
       "         3.74915715e-01, -4.46256624e-01, -4.05027611e-02,\n",
       "        -3.21846721e-01,  9.39007674e-02],\n",
       "       [ 2.98948722e-01, -2.80760669e-02, -1.23735038e-02,\n",
       "         7.37118226e-02, -2.38782899e-01, -2.04403132e-01,\n",
       "        -4.11926564e-01,  3.49298300e-01,  2.08711421e-01,\n",
       "        -5.59860628e-01,  1.81153949e-01, -1.46071575e-01,\n",
       "         3.07999649e-01, -8.79905012e-02],\n",
       "       [ 2.95244838e-01, -2.44813445e-02,  2.10728620e-02,\n",
       "         8.72164763e-02, -3.53219509e-01,  1.03041719e-01,\n",
       "        -8.19749346e-02,  4.35715404e-01, -4.80488763e-01,\n",
       "         1.79343460e-01,  1.58844064e-01,  3.92694419e-01,\n",
       "        -3.38311167e-01,  1.23703808e-01],\n",
       "       [ 2.91791747e-01, -2.23732579e-02,  4.00779926e-02,\n",
       "         9.34484208e-02, -4.02390266e-01,  2.80854595e-01,\n",
       "         2.07203674e-01, -3.87380803e-03, -1.85817558e-01,\n",
       "         2.91797995e-01, -2.50743204e-01, -5.38919856e-01,\n",
       "         3.60668303e-01, -1.31186650e-01],\n",
       "       [ 2.90513728e-01, -1.99812809e-02,  4.49548204e-02,\n",
       "         8.75626351e-02, -3.93907792e-01,  3.04101065e-01,\n",
       "         3.16778846e-01, -4.36480361e-01,  4.01759719e-01,\n",
       "        -2.80317322e-01,  9.10496977e-02,  2.96349681e-01,\n",
       "        -1.66576959e-01,  5.62128557e-02]])"
      ]
     },
     "execution_count": 14,
     "metadata": {},
     "output_type": "execute_result"
    }
   ],
   "source": [
    "# Step 5: Sort Principal Components\n",
    "sorted_indices = eigenvalues.argsort()[::-1]  # Sort eigenvalues in descending order\n",
    "sorted_eigenvectors = eigenvectors[:, sorted_indices]  # Sort eigenvectors accordingly\n",
    "sorted_eigenvectors"
   ]
  },
  {
   "cell_type": "markdown",
   "metadata": {},
   "source": [
    "## Reine Mizero\n"
   ]
  },
  {
   "cell_type": "markdown",
   "metadata": {
    "id": "uxbmuO27r_Kg"
   },
   "source": [
    "### Step 6: Project Data onto Principal Components\n",
    "\n",
    "Now that we’ve selected the number of components, we will project the original data onto the chosen principal components.\n",
    "Fill in the code to perform the projection.\n"
   ]
  },
  {
   "cell_type": "code",
   "execution_count": 8,
   "metadata": {
    "id": "ubjIMAtWr_Kg"
   },
   "outputs": [
    {
     "data": {
      "text/plain": [
       "array([[-96.41815467,  -6.38125625],\n",
       "       [-58.96957578,  -3.65966029],\n",
       "       [-95.18438424,  -6.17238081],\n",
       "       [-55.31303362,  -3.62618568],\n",
       "       [-55.45900558,  -3.3958355 ]])"
      ]
     },
     "execution_count": 8,
     "metadata": {},
     "output_type": "execute_result"
    }
   ],
   "source": [
    "# Step 6: Project Data onto Principal Components\n",
    "eigenvalues, eigenvectors = np.linalg.eigh(cov_matrix)\n",
    "sorted_indices = np.argsort(eigenvalues)[::-1]\n",
    "eigenvectors = eigenvectors[:, sorted_indices]\n",
    "eigenvalues = eigenvalues[sorted_indices]\n",
    "num_components = 2\n",
    "top_eigenvectors = eigenvectors[:, :num_components]  # Decide on the number of principal components to keep\n",
    "reduced_data = np.dot(standardized_data, top_eigenvectors)\n",
    "reduced_data[:5]"
   ]
  },
  {
   "cell_type": "markdown",
   "metadata": {
    "id": "XVq-b6vtr_Kg"
   },
   "source": [
    "### Step 7: Output the Reduced Data\n",
    "\n",
    "Finally, display the reduced data obtained by projecting the original dataset onto the selected principal components.\n"
   ]
  },
  {
   "cell_type": "code",
   "execution_count": 9,
   "metadata": {
    "id": "5D0uzRyPr_Kg"
   },
   "outputs": [
    {
     "name": "stdout",
     "output_type": "stream",
     "text": [
      "Reduced Data Shape: (30861, 2)\n"
     ]
    },
    {
     "data": {
      "text/plain": [
       "array([[-96.41815467,  -6.38125625],\n",
       "       [-58.96957578,  -3.65966029],\n",
       "       [-95.18438424,  -6.17238081],\n",
       "       [-55.31303362,  -3.62618568],\n",
       "       [-55.45900558,  -3.3958355 ]])"
      ]
     },
     "execution_count": 9,
     "metadata": {},
     "output_type": "execute_result"
    }
   ],
   "source": [
    "# Step 7: Output the Reduced Data\n",
    "print(f'Reduced Data Shape: {reduced_data.shape}')  # Display reduced data shape\n",
    "reduced_data[:5]  # Display the first few rows of reduced data"
   ]
  },
  {
   "cell_type": "markdown",
   "metadata": {},
   "source": [
    "## Together\n"
   ]
  },
  {
   "cell_type": "markdown",
   "metadata": {
    "id": "S1f8ROm5r_Kg"
   },
   "source": [
    "### Step 8: Visualize Before and After PCA\n",
    "\n",
    "Now, let's plot the original data and the data after PCA to compare the reduction in dimensions visually.\n"
   ]
  },
  {
   "cell_type": "code",
   "execution_count": null,
   "metadata": {
    "id": "WwuppWV-r_Kg"
   },
   "outputs": [],
   "source": [
    "# Step 8: Visualize Before and After PCA\n",
    "\n",
    "\n",
    "# Plot original data (first two features for simplicity)\n",
    "\n",
    "\n",
    "# Plot reduced data after PCA\n"
   ]
  }
 ],
 "metadata": {
  "colab": {
   "provenance": []
  },
  "kernelspec": {
   "display_name": ".venv",
   "language": "python",
   "name": "python3"
  },
  "language_info": {
   "codemirror_mode": {
    "name": "ipython",
    "version": 3
   },
   "file_extension": ".py",
   "mimetype": "text/x-python",
   "name": "python",
   "nbconvert_exporter": "python",
   "pygments_lexer": "ipython3",
   "version": "3.13.2"
  }
 },
 "nbformat": 4,
 "nbformat_minor": 0
}
